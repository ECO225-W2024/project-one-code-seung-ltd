{
 "cells": [
  {
   "cell_type": "markdown",
   "id": "a215cf9d-68cf-4b7e-bc8f-4dbea08a787f",
   "metadata": {},
   "source": [
    "# ECO225 - Project 1\n",
    "## Introduction\n",
    "Dataset: Startup Investments\n",
    "\n",
    "https://www.kaggle.com/datasets/justinas/startup-investments/data"
   ]
  },
  {
   "cell_type": "code",
   "execution_count": 1,
   "id": "4e8131d9-b8e3-4886-a38b-3078d5087c03",
   "metadata": {
    "tags": []
   },
   "outputs": [],
   "source": [
    "import numpy as np\n",
    "import pandas as pd\n",
    "import matplotlib.pyplot as plt\n",
    "import seaborn as sns"
   ]
  },
  {
   "cell_type": "markdown",
   "id": "e257316b-66a5-4cb7-a07c-bb714d429f06",
   "metadata": {},
   "source": [
    "## Data Cleaning/Loading"
   ]
  },
  {
   "cell_type": "code",
   "execution_count": 3,
   "id": "e2703892-bf03-477d-88d5-0c773700eb3d",
   "metadata": {
    "tags": []
   },
   "outputs": [
    {
     "data": {
      "text/html": [
       "<div>\n",
       "<style scoped>\n",
       "    .dataframe tbody tr th:only-of-type {\n",
       "        vertical-align: middle;\n",
       "    }\n",
       "\n",
       "    .dataframe tbody tr th {\n",
       "        vertical-align: top;\n",
       "    }\n",
       "\n",
       "    .dataframe thead th {\n",
       "        text-align: right;\n",
       "    }\n",
       "</style>\n",
       "<table border=\"1\" class=\"dataframe\">\n",
       "  <thead>\n",
       "    <tr style=\"text-align: right;\">\n",
       "      <th></th>\n",
       "      <th>id</th>\n",
       "      <th>entity_type</th>\n",
       "      <th>entity_id</th>\n",
       "      <th>parent_id</th>\n",
       "      <th>name</th>\n",
       "      <th>normalized_name</th>\n",
       "      <th>permalink</th>\n",
       "      <th>category_code</th>\n",
       "      <th>status</th>\n",
       "      <th>founded_at</th>\n",
       "      <th>...</th>\n",
       "      <th>last_funding_at</th>\n",
       "      <th>funding_rounds</th>\n",
       "      <th>funding_total_usd</th>\n",
       "      <th>first_milestone_at</th>\n",
       "      <th>last_milestone_at</th>\n",
       "      <th>milestones</th>\n",
       "      <th>relationships</th>\n",
       "      <th>created_by</th>\n",
       "      <th>created_at</th>\n",
       "      <th>updated_at</th>\n",
       "    </tr>\n",
       "  </thead>\n",
       "  <tbody>\n",
       "    <tr>\n",
       "      <th>0</th>\n",
       "      <td>c:1</td>\n",
       "      <td>Company</td>\n",
       "      <td>1</td>\n",
       "      <td>NaN</td>\n",
       "      <td>Wetpaint</td>\n",
       "      <td>wetpaint</td>\n",
       "      <td>/company/wetpaint</td>\n",
       "      <td>web</td>\n",
       "      <td>operating</td>\n",
       "      <td>2005-10-17</td>\n",
       "      <td>...</td>\n",
       "      <td>2008-05-19</td>\n",
       "      <td>3</td>\n",
       "      <td>39750000.0</td>\n",
       "      <td>2010-09-05</td>\n",
       "      <td>2013-09-18</td>\n",
       "      <td>5</td>\n",
       "      <td>17</td>\n",
       "      <td>initial-importer</td>\n",
       "      <td>2007-05-25 06:51:27</td>\n",
       "      <td>2013-04-13 03:29:00</td>\n",
       "    </tr>\n",
       "    <tr>\n",
       "      <th>1</th>\n",
       "      <td>c:10</td>\n",
       "      <td>Company</td>\n",
       "      <td>10</td>\n",
       "      <td>NaN</td>\n",
       "      <td>Flektor</td>\n",
       "      <td>flektor</td>\n",
       "      <td>/company/flektor</td>\n",
       "      <td>games_video</td>\n",
       "      <td>acquired</td>\n",
       "      <td>NaN</td>\n",
       "      <td>...</td>\n",
       "      <td>NaN</td>\n",
       "      <td>0</td>\n",
       "      <td>0.0</td>\n",
       "      <td>NaN</td>\n",
       "      <td>NaN</td>\n",
       "      <td>0</td>\n",
       "      <td>6</td>\n",
       "      <td>initial-importer</td>\n",
       "      <td>2007-05-31 21:11:51</td>\n",
       "      <td>2008-05-23 23:23:14</td>\n",
       "    </tr>\n",
       "    <tr>\n",
       "      <th>2</th>\n",
       "      <td>c:100</td>\n",
       "      <td>Company</td>\n",
       "      <td>100</td>\n",
       "      <td>NaN</td>\n",
       "      <td>There</td>\n",
       "      <td>there</td>\n",
       "      <td>/company/there</td>\n",
       "      <td>games_video</td>\n",
       "      <td>acquired</td>\n",
       "      <td>NaN</td>\n",
       "      <td>...</td>\n",
       "      <td>NaN</td>\n",
       "      <td>0</td>\n",
       "      <td>0.0</td>\n",
       "      <td>2003-02-01</td>\n",
       "      <td>2011-09-23</td>\n",
       "      <td>4</td>\n",
       "      <td>12</td>\n",
       "      <td>initial-importer</td>\n",
       "      <td>2007-08-06 23:52:45</td>\n",
       "      <td>2013-11-04 02:09:48</td>\n",
       "    </tr>\n",
       "    <tr>\n",
       "      <th>3</th>\n",
       "      <td>c:10000</td>\n",
       "      <td>Company</td>\n",
       "      <td>10000</td>\n",
       "      <td>NaN</td>\n",
       "      <td>MYWEBBO</td>\n",
       "      <td>mywebbo</td>\n",
       "      <td>/company/mywebbo</td>\n",
       "      <td>network_hosting</td>\n",
       "      <td>operating</td>\n",
       "      <td>2008-07-26</td>\n",
       "      <td>...</td>\n",
       "      <td>NaN</td>\n",
       "      <td>0</td>\n",
       "      <td>0.0</td>\n",
       "      <td>NaN</td>\n",
       "      <td>NaN</td>\n",
       "      <td>0</td>\n",
       "      <td>0</td>\n",
       "      <td>NaN</td>\n",
       "      <td>2008-08-24 16:51:57</td>\n",
       "      <td>2008-09-06 14:19:18</td>\n",
       "    </tr>\n",
       "    <tr>\n",
       "      <th>4</th>\n",
       "      <td>c:10001</td>\n",
       "      <td>Company</td>\n",
       "      <td>10001</td>\n",
       "      <td>NaN</td>\n",
       "      <td>THE Movie Streamer</td>\n",
       "      <td>the movie streamer</td>\n",
       "      <td>/company/the-movie-streamer</td>\n",
       "      <td>games_video</td>\n",
       "      <td>operating</td>\n",
       "      <td>2008-07-26</td>\n",
       "      <td>...</td>\n",
       "      <td>NaN</td>\n",
       "      <td>0</td>\n",
       "      <td>0.0</td>\n",
       "      <td>NaN</td>\n",
       "      <td>NaN</td>\n",
       "      <td>0</td>\n",
       "      <td>0</td>\n",
       "      <td>NaN</td>\n",
       "      <td>2008-08-24 17:10:34</td>\n",
       "      <td>2008-09-06 14:19:18</td>\n",
       "    </tr>\n",
       "  </tbody>\n",
       "</table>\n",
       "<p>5 rows × 40 columns</p>\n",
       "</div>"
      ],
      "text/plain": [
       "        id entity_type  entity_id parent_id                name  \\\n",
       "0      c:1     Company          1       NaN            Wetpaint   \n",
       "1     c:10     Company         10       NaN             Flektor   \n",
       "2    c:100     Company        100       NaN               There   \n",
       "3  c:10000     Company      10000       NaN             MYWEBBO   \n",
       "4  c:10001     Company      10001       NaN  THE Movie Streamer   \n",
       "\n",
       "      normalized_name                    permalink    category_code  \\\n",
       "0            wetpaint            /company/wetpaint              web   \n",
       "1             flektor             /company/flektor      games_video   \n",
       "2               there               /company/there      games_video   \n",
       "3             mywebbo             /company/mywebbo  network_hosting   \n",
       "4  the movie streamer  /company/the-movie-streamer      games_video   \n",
       "\n",
       "      status  founded_at  ... last_funding_at funding_rounds  \\\n",
       "0  operating  2005-10-17  ...      2008-05-19              3   \n",
       "1   acquired         NaN  ...             NaN              0   \n",
       "2   acquired         NaN  ...             NaN              0   \n",
       "3  operating  2008-07-26  ...             NaN              0   \n",
       "4  operating  2008-07-26  ...             NaN              0   \n",
       "\n",
       "  funding_total_usd first_milestone_at last_milestone_at  milestones  \\\n",
       "0        39750000.0         2010-09-05        2013-09-18           5   \n",
       "1               0.0                NaN               NaN           0   \n",
       "2               0.0         2003-02-01        2011-09-23           4   \n",
       "3               0.0                NaN               NaN           0   \n",
       "4               0.0                NaN               NaN           0   \n",
       "\n",
       "   relationships        created_by           created_at           updated_at  \n",
       "0             17  initial-importer  2007-05-25 06:51:27  2013-04-13 03:29:00  \n",
       "1              6  initial-importer  2007-05-31 21:11:51  2008-05-23 23:23:14  \n",
       "2             12  initial-importer  2007-08-06 23:52:45  2013-11-04 02:09:48  \n",
       "3              0               NaN  2008-08-24 16:51:57  2008-09-06 14:19:18  \n",
       "4              0               NaN  2008-08-24 17:10:34  2008-09-06 14:19:18  \n",
       "\n",
       "[5 rows x 40 columns]"
      ]
     },
     "execution_count": 3,
     "metadata": {},
     "output_type": "execute_result"
    }
   ],
   "source": [
    "objects = pd.read_csv(\"startup/objects.csv\", low_memory=False)\n",
    "objects.head()"
   ]
  },
  {
   "cell_type": "code",
   "execution_count": 5,
   "id": "e4e0682a-04c6-467a-9290-bc2b9795a8c2",
   "metadata": {
    "tags": []
   },
   "outputs": [
    {
     "data": {
      "text/plain": [
       "id                      object\n",
       "entity_type             object\n",
       "entity_id                int64\n",
       "parent_id               object\n",
       "name                    object\n",
       "normalized_name         object\n",
       "permalink               object\n",
       "category_code           object\n",
       "status                  object\n",
       "founded_at              object\n",
       "closed_at               object\n",
       "domain                  object\n",
       "homepage_url            object\n",
       "twitter_username        object\n",
       "logo_url                object\n",
       "logo_width               int64\n",
       "logo_height              int64\n",
       "short_description       object\n",
       "description             object\n",
       "overview                object\n",
       "tag_list                object\n",
       "country_code            object\n",
       "state_code              object\n",
       "city                    object\n",
       "region                  object\n",
       "first_investment_at     object\n",
       "last_investment_at      object\n",
       "investment_rounds        int64\n",
       "invested_companies       int64\n",
       "first_funding_at        object\n",
       "last_funding_at         object\n",
       "funding_rounds           int64\n",
       "funding_total_usd      float64\n",
       "first_milestone_at      object\n",
       "last_milestone_at       object\n",
       "milestones               int64\n",
       "relationships            int64\n",
       "created_by              object\n",
       "created_at              object\n",
       "updated_at              object\n",
       "dtype: object"
      ]
     },
     "execution_count": 5,
     "metadata": {},
     "output_type": "execute_result"
    }
   ],
   "source": [
    "objects.dtypes"
   ]
  },
  {
   "cell_type": "code",
   "execution_count": 6,
   "id": "f0eca420-9266-403a-9e2b-b562164a5f22",
   "metadata": {
    "tags": []
   },
   "outputs": [
    {
     "data": {
      "text/plain": [
       "Person          226708\n",
       "Company         196553\n",
       "Product          27738\n",
       "FinancialOrg     11652\n",
       "Name: entity_type, dtype: int64"
      ]
     },
     "execution_count": 6,
     "metadata": {},
     "output_type": "execute_result"
    }
   ],
   "source": [
    "objects['entity_type'].value_counts()"
   ]
  },
  {
   "cell_type": "code",
   "execution_count": 7,
   "id": "8782ed7f-ff0a-4713-a095-6d474f05e545",
   "metadata": {
    "tags": []
   },
   "outputs": [
    {
     "data": {
      "text/plain": [
       "operating      443663\n",
       "acquired         9394\n",
       "live             4349\n",
       "closed           2773\n",
       "ipo              1134\n",
       "beta              780\n",
       "development       226\n",
       "private           219\n",
       "alpha             113\n",
       "Name: status, dtype: int64"
      ]
     },
     "execution_count": 7,
     "metadata": {},
     "output_type": "execute_result"
    }
   ],
   "source": [
    "objects['status'].value_counts()"
   ]
  },
  {
   "cell_type": "code",
   "execution_count": null,
   "id": "e4fcb452-ad53-4869-a51c-0b754401fd01",
   "metadata": {},
   "outputs": [],
   "source": []
  },
  {
   "cell_type": "code",
   "execution_count": 4,
   "id": "eef31514-88d8-4f86-8f67-1b05e995e3aa",
   "metadata": {
    "tags": []
   },
   "outputs": [
    {
     "data": {
      "text/html": [
       "<div>\n",
       "<style scoped>\n",
       "    .dataframe tbody tr th:only-of-type {\n",
       "        vertical-align: middle;\n",
       "    }\n",
       "\n",
       "    .dataframe tbody tr th {\n",
       "        vertical-align: top;\n",
       "    }\n",
       "\n",
       "    .dataframe thead th {\n",
       "        text-align: right;\n",
       "    }\n",
       "</style>\n",
       "<table border=\"1\" class=\"dataframe\">\n",
       "  <thead>\n",
       "    <tr style=\"text-align: right;\">\n",
       "      <th></th>\n",
       "      <th>id</th>\n",
       "      <th>funding_round_id</th>\n",
       "      <th>funded_object_id</th>\n",
       "      <th>investor_object_id</th>\n",
       "      <th>created_at</th>\n",
       "      <th>updated_at</th>\n",
       "    </tr>\n",
       "  </thead>\n",
       "  <tbody>\n",
       "    <tr>\n",
       "      <th>0</th>\n",
       "      <td>1</td>\n",
       "      <td>1</td>\n",
       "      <td>c:4</td>\n",
       "      <td>f:1</td>\n",
       "      <td>2007-07-04 04:52:57</td>\n",
       "      <td>2008-02-27 23:14:29</td>\n",
       "    </tr>\n",
       "    <tr>\n",
       "      <th>1</th>\n",
       "      <td>2</td>\n",
       "      <td>1</td>\n",
       "      <td>c:4</td>\n",
       "      <td>f:2</td>\n",
       "      <td>2007-07-04 04:52:57</td>\n",
       "      <td>2008-02-27 23:14:29</td>\n",
       "    </tr>\n",
       "    <tr>\n",
       "      <th>2</th>\n",
       "      <td>3</td>\n",
       "      <td>3</td>\n",
       "      <td>c:5</td>\n",
       "      <td>f:4</td>\n",
       "      <td>2007-05-27 06:09:10</td>\n",
       "      <td>2013-06-28 20:07:23</td>\n",
       "    </tr>\n",
       "    <tr>\n",
       "      <th>3</th>\n",
       "      <td>4</td>\n",
       "      <td>4</td>\n",
       "      <td>c:5</td>\n",
       "      <td>f:1</td>\n",
       "      <td>2007-05-27 06:09:36</td>\n",
       "      <td>2013-06-28 20:07:24</td>\n",
       "    </tr>\n",
       "    <tr>\n",
       "      <th>4</th>\n",
       "      <td>5</td>\n",
       "      <td>4</td>\n",
       "      <td>c:5</td>\n",
       "      <td>f:5</td>\n",
       "      <td>2007-05-27 06:09:36</td>\n",
       "      <td>2013-06-28 20:07:24</td>\n",
       "    </tr>\n",
       "  </tbody>\n",
       "</table>\n",
       "</div>"
      ],
      "text/plain": [
       "   id  funding_round_id funded_object_id investor_object_id  \\\n",
       "0   1                 1              c:4                f:1   \n",
       "1   2                 1              c:4                f:2   \n",
       "2   3                 3              c:5                f:4   \n",
       "3   4                 4              c:5                f:1   \n",
       "4   5                 4              c:5                f:5   \n",
       "\n",
       "            created_at           updated_at  \n",
       "0  2007-07-04 04:52:57  2008-02-27 23:14:29  \n",
       "1  2007-07-04 04:52:57  2008-02-27 23:14:29  \n",
       "2  2007-05-27 06:09:10  2013-06-28 20:07:23  \n",
       "3  2007-05-27 06:09:36  2013-06-28 20:07:24  \n",
       "4  2007-05-27 06:09:36  2013-06-28 20:07:24  "
      ]
     },
     "execution_count": 4,
     "metadata": {},
     "output_type": "execute_result"
    }
   ],
   "source": [
    "investments = pd.read_csv(\"startup/investments.csv\", low_memory=False)\n",
    "investments.head()"
   ]
  },
  {
   "cell_type": "code",
   "execution_count": null,
   "id": "d9b5f9dd-5961-4396-8977-a4966dca448c",
   "metadata": {},
   "outputs": [],
   "source": []
  },
  {
   "cell_type": "markdown",
   "id": "0311cb6e-2ee4-42ce-886f-934139037ce0",
   "metadata": {},
   "source": [
    "## Summary Statistics Tables"
   ]
  },
  {
   "cell_type": "code",
   "execution_count": null,
   "id": "81070dae-4b1f-4430-b8da-8e074e293956",
   "metadata": {},
   "outputs": [],
   "source": []
  },
  {
   "cell_type": "markdown",
   "id": "7d1f6a00-051a-4e8a-a8d7-d9c6e7716957",
   "metadata": {},
   "source": [
    "## Plots, Histograms, Figures"
   ]
  },
  {
   "cell_type": "code",
   "execution_count": null,
   "id": "d4336adc-bbc2-4c19-88dd-0bbd39cd30dd",
   "metadata": {},
   "outputs": [],
   "source": []
  },
  {
   "cell_type": "markdown",
   "id": "48649cb6-9bcf-428a-a783-008de7fe6824",
   "metadata": {},
   "source": [
    "## Conclusion"
   ]
  },
  {
   "cell_type": "code",
   "execution_count": null,
   "id": "cf59241f-0e9e-4718-9ed6-492e48153fbc",
   "metadata": {},
   "outputs": [],
   "source": []
  }
 ],
 "metadata": {
  "kernelspec": {
   "display_name": "Python 3 (ipykernel)",
   "language": "python",
   "name": "python3"
  },
  "language_info": {
   "codemirror_mode": {
    "name": "ipython",
    "version": 3
   },
   "file_extension": ".py",
   "mimetype": "text/x-python",
   "name": "python",
   "nbconvert_exporter": "python",
   "pygments_lexer": "ipython3",
   "version": "3.11.4"
  }
 },
 "nbformat": 4,
 "nbformat_minor": 5
}
